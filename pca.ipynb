{
 "cells": [
  {
   "cell_type": "code",
   "execution_count": null,
   "metadata": {},
   "outputs": [],
   "source": [
    "import pandas as pd\n",
    "import numpy as np\n",
    "\n",
    "from scipy import stats\n",
    "\n",
    "from sklearn.pipeline import Pipeline\n",
    "from sklearn.decomposition import PCA\n",
    "\n",
    "from lightgbm import LGBMRegressor\n",
    "from skopt import BayesSearchCV\n",
    "from sklearn.preprocessing import StandardScaler\n",
    "\n",
    "from sklearn.linear_model import ElasticNet,LinearRegression\n",
    "\n",
    "from sklearn.metrics import mean_absolute_error,r2_score\n",
    "from  scipy.stats import pearsonr\n",
    "from xgboost import XGBRegressor"
   ]
  },
  {
   "cell_type": "code",
   "execution_count": null,
   "metadata": {},
   "outputs": [],
   "source": [
    "from sklearn.metrics import mean_absolute_error,make_scorer\n",
    "\n",
    "def mae_exp(y_true_log, y_pred_log):\n",
    "    y_true = np.exp(y_true_log)\n",
    "    y_pred = np.exp(y_pred_log)\n",
    "    return mean_absolute_error(y_true, y_pred)\n",
    "\n",
    "# Create a scorer from the custom scoring function\n",
    "mae_exp_scorer = make_scorer(mae_exp, greater_is_better=False)"
   ]
  },
  {
   "cell_type": "code",
   "execution_count": null,
   "metadata": {},
   "outputs": [],
   "source": [
    "\n",
    "from sklearn.model_selection import train_test_split\n",
    "\n",
    "# Load your data\n",
    "dataframe = pd.read_csv(fr'C:\\Users\\User\\OneDrive\\Desktop\\predicting-brain-age\\Data\\original.csv')\n"
   ]
  },
  {
   "cell_type": "code",
   "execution_count": null,
   "metadata": {},
   "outputs": [],
   "source": [
    "pipeline = Pipeline([\n",
    "    ('scaler',StandardScaler()),\n",
    "    ('pca',PCA(svd_solver='full')),\n",
    "    ('lgbm',LGBMRegressor())\n",
    "])"
   ]
  },
  {
   "cell_type": "code",
   "execution_count": null,
   "metadata": {},
   "outputs": [],
   "source": [
    "param_grid = {\n",
    "    'pca__n_components': [0.80,0.85,0.90,0.95],  # Number of components to keep\n",
    "    # 'elasticnet__alpha': np.logspace(-4, -0.5, 20),\n",
    "    # 'elasticnet__l1_ratio' : np.logspace(-4 , - 0.5, 20)\n",
    "}"
   ]
  },
  {
   "cell_type": "code",
   "execution_count": null,
   "metadata": {},
   "outputs": [],
   "source": [
    "# Define the search using BayesSearchCV\n",
    "bayes_search = BayesSearchCV(\n",
    "    estimator=pipeline,\n",
    "    search_spaces=param_grid,\n",
    "    n_iter=32,  # Number of parameter settings that are sampled\n",
    "    cv=10,       # 5-fold cross-validation\n",
    "    scoring='neg_mean_absolute_error',  # Can change based on what you care about\n",
    "    random_state=42\n",
    ")"
   ]
  },
  {
   "cell_type": "code",
   "execution_count": null,
   "metadata": {},
   "outputs": [],
   "source": [
    "# Load your data here\n",
    "X = dataframe.drop('age', axis=1)\n",
    "y = (dataframe['age'])\n",
    "\n",
    "# Split the data into training and testing sets\n",
    "x_train, x_test, y_train, y_test = train_test_split(X, y, test_size=0.2, random_state=42)\n",
    "\n",
    "# Perform the search\n",
    "bayes_search.fit(x_train, y_train)\n",
    "\n",
    "# Best parameters and best score\n",
    "print(\"Best parameters:\", bayes_search.best_params_)\n"
   ]
  },
  {
   "cell_type": "code",
   "execution_count": null,
   "metadata": {},
   "outputs": [],
   "source": [
    "best_pipeline = bayes_search.best_estimator_\n",
    "best_pca = best_pipeline.named_steps['pca']\n",
    "components = best_pca.components_\n",
    "len(components)"
   ]
  },
  {
   "cell_type": "code",
   "execution_count": null,
   "metadata": {},
   "outputs": [],
   "source": [
    "best_pipeline.fit(x_train,y_train)\n",
    "y_pred = best_pipeline.predict(x_test)\n",
    "print(mean_absolute_error((y_pred),(y_test)))\n",
    "print(\"Best cross-validation score: {:.2f}\".format(bayes_search.best_score_))\n",
    "print('linear regression  r2: ',(r2_score(y_test,y_pred)))\n",
    "print('linear regression pearson: ',(pearsonr(y_test,y_pred)))"
   ]
  },
  {
   "cell_type": "code",
   "execution_count": null,
   "metadata": {},
   "outputs": [],
   "source": [
    "from sklearn.model_selection import cross_val_score\n",
    "pipeline2 = Pipeline([\n",
    "    ('scaler',StandardScaler()),\n",
    "    ('pca',PCA(svd_solver='full',n_components=0.85)),\n",
    "    ('lgbm',LGBMRegressor())\n",
    "])\n",
    "\n",
    "pipeline2.fit(x_train,y_train)\n",
    "cv_lgbm = cross_val_score(pipeline2, x_train, y_train, cv=10, scoring='neg_mean_absolute_error')\n",
    "\n",
    "\n",
    "y_pred = pipeline2.predict(x_test)\n",
    "print(mean_absolute_error((y_pred),(y_test)))\n",
    "print(\"Best cross-validation score: \",-np.mean(cv_lgbm))\n",
    "print('linear regression  r2: ',(r2_score(y_test,y_pred)))\n",
    "print('linear regression pearson: ',(pearsonr(y_test,y_pred)))\n"
   ]
  }
 ],
 "metadata": {
  "kernelspec": {
   "display_name": "jupyternb",
   "language": "python",
   "name": "python3"
  },
  "language_info": {
   "codemirror_mode": {
    "name": "ipython",
    "version": 3
   },
   "file_extension": ".py",
   "mimetype": "text/x-python",
   "name": "python",
   "nbconvert_exporter": "python",
   "pygments_lexer": "ipython3",
   "version": "3.10.5"
  }
 },
 "nbformat": 4,
 "nbformat_minor": 2
}
